{
 "cells": [
  {
   "cell_type": "code",
   "execution_count": 98,
   "metadata": {},
   "outputs": [],
   "source": [
    "import spacy\n",
    "import random\n",
    "from collections import Counter\n"
   ]
  },
  {
   "cell_type": "code",
   "execution_count": 99,
   "metadata": {},
   "outputs": [],
   "source": [
    "# input text\n",
    "text = \"\"\"\n",
    "The Greek historian knew what he was talking about. The Nile River fed Egyptian civilization for hundreds of years. \n",
    "The Longest River the Nile is 4,160 miles long—the world’s longest river. It begins near the equator in Africa and \n",
    "flows north to the Mediterranean Sea. In the south the Nile churns with cataracts. A cataract is a waterfall. Near the \n",
    "sea the Nile branches into a delta. A delta is an area near a river’s mouth where the water deposits fine soil called silt. \n",
    "In the delta, the Nile divides into many streams. The river is called the upper Nile in the south and the lower Nile in the\n",
    "north. For centuries, heavy rains in Ethiopia caused the Nile to flood every summer. The floods deposited rich soil along the \n",
    "Nile’s shores. This soil was fertile, which means it was good for growing crops. Unlike the Tigris and Euphrates,\n",
    "the Nile River flooded at the same time every year, so farmers could predict when to plant their crops.\n",
    "\"\"\"\n",
    "\n",
    "num_questions = 5"
   ]
  },
  {
   "cell_type": "code",
   "execution_count": 100,
   "metadata": {},
   "outputs": [],
   "source": [
    "nlp = spacy.load('en_core_web_sm')"
   ]
  },
  {
   "cell_type": "code",
   "execution_count": 101,
   "metadata": {},
   "outputs": [],
   "source": [
    "doc = nlp(text)\n",
    "sentences = [sent.text for sent in doc.sents]"
   ]
  },
  {
   "cell_type": "code",
   "execution_count": 102,
   "metadata": {},
   "outputs": [
    {
     "data": {
      "text/plain": [
       "['\\nThe Greek historian knew what he was talking about.',\n",
       " 'The Nile River fed Egyptian civilization for hundreds of years. \\n',\n",
       " 'The Longest River the Nile is 4,160 miles long—the world’s longest river.',\n",
       " 'It begins near the equator in Africa and \\nflows north to the Mediterranean Sea.',\n",
       " 'In the south the Nile churns with cataracts.',\n",
       " 'A cataract is a waterfall.',\n",
       " 'Near the \\nsea the Nile branches into a delta.',\n",
       " 'A delta is an area near a river’s mouth where the water deposits fine soil called silt. \\n',\n",
       " 'In the delta, the Nile divides into many streams.',\n",
       " 'The river is called the upper Nile in the south and the lower Nile in the\\nnorth.',\n",
       " 'For centuries, heavy rains in Ethiopia caused the Nile to flood every summer.',\n",
       " 'The floods deposited rich soil along the \\nNile’s shores.',\n",
       " 'This soil was fertile, which means it was good for growing crops.',\n",
       " 'Unlike the Tigris and Euphrates,\\nthe Nile River flooded at the same time every year, so farmers could predict when to plant their crops.\\n']"
      ]
     },
     "execution_count": 102,
     "metadata": {},
     "output_type": "execute_result"
    }
   ],
   "source": [
    "sentences"
   ]
  },
  {
   "cell_type": "code",
   "execution_count": 103,
   "metadata": {},
   "outputs": [],
   "source": [
    "selected_senences = random.sample(sentences, (min((num_questions, len(sentences)))))"
   ]
  },
  {
   "cell_type": "code",
   "execution_count": 104,
   "metadata": {},
   "outputs": [
    {
     "ename": "ValueError",
     "evalue": "'delta' is not in list",
     "output_type": "error",
     "traceback": [
      "\u001b[0;31m---------------------------------------------------------------------------\u001b[0m",
      "\u001b[0;31mValueError\u001b[0m                                Traceback (most recent call last)",
      "Cell \u001b[0;32mIn[104], line 17\u001b[0m\n\u001b[1;32m     15\u001b[0m     answer_choices\u001b[38;5;241m.\u001b[39mappend(distractor)\n\u001b[1;32m     16\u001b[0m random\u001b[38;5;241m.\u001b[39mshuffle(answer_choices)\n\u001b[0;32m---> 17\u001b[0m correct_answer \u001b[38;5;241m=\u001b[39m \u001b[38;5;28mchr\u001b[39m(\u001b[38;5;241m64\u001b[39m \u001b[38;5;241m+\u001b[39m \u001b[43manswer_choices\u001b[49m\u001b[38;5;241;43m.\u001b[39;49m\u001b[43mindex\u001b[49m\u001b[43m(\u001b[49m\u001b[43msubject\u001b[49m\u001b[43m)\u001b[49m \u001b[38;5;241m+\u001b[39m\u001b[38;5;241m1\u001b[39m)\n\u001b[1;32m     18\u001b[0m \u001b[38;5;28mprint\u001b[39m(correct_answer)\n",
      "\u001b[0;31mValueError\u001b[0m: 'delta' is not in list"
     ]
    }
   ],
   "source": [
    "mcq = []\n",
    "for sentence in selected_senences:\n",
    "    sentence = sentence.lower()\n",
    "    sent_doc = nlp(sentence)\n",
    "    noun = [token.text for token in sent_doc if token.pos_ == 'NOUN']\n",
    "    if len(noun) < 2:\n",
    "        continue\n",
    "    noun_count = Counter(noun)\n",
    "    if noun_count:\n",
    "        answer_choices = [subject]\n",
    "        subject = noun_count.most_common(1)[0][0]\n",
    "        question_stem = sentence.replace(subject, '___')\n",
    "        for _ in range(3):\n",
    "            distractor = random.choice(list(set(noun) - set([subject])))\n",
    "            answer_choices.append(distractor)\n",
    "        random.shuffle(answer_choices)\n",
    "        correct_answer = chr(64 + answer_choices.index(subject) + 1)\n",
    "        print(correct_answer)\n",
    "        mcq.append((question_stem, answer_choices, correct_answer))"
   ]
  }
 ],
 "metadata": {
  "kernelspec": {
   "display_name": "Python 3",
   "language": "python",
   "name": "python3"
  },
  "language_info": {
   "codemirror_mode": {
    "name": "ipython",
    "version": 3
   },
   "file_extension": ".py",
   "mimetype": "text/x-python",
   "name": "python",
   "nbconvert_exporter": "python",
   "pygments_lexer": "ipython3",
   "version": "3.11.4"
  }
 },
 "nbformat": 4,
 "nbformat_minor": 2
}
